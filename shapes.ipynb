{
 "cells": [
  {
   "cell_type": "code",
   "execution_count": 8,
   "id": "fbdf025c-e963-4074-ba17-d1a8a1765073",
   "metadata": {},
   "outputs": [],
   "source": [
    "from turtle import *\n",
    "import colorsys\n",
    "tracer(2)\n",
    "pensize(2)\n",
    "h=0.2\n",
    "bgcolor(\"black\")\n",
    "lt(80)\n",
    "fd(180)\n",
    "lt(180)\n",
    "lt(80)\n",
    "\n",
    "for i in range(330):\n",
    "    c=colorsys.hsv_to_rgb(h,1,1)\n",
    "    color(c)\n",
    "    h+0.004\n",
    "    fd(i)\n",
    "    rt(50)\n",
    "    rt(40)\n",
    "    fd(500)\n",
    "    rt(120)\n",
    "done()"
   ]
  },
  {
   "cell_type": "code",
   "execution_count": null,
   "id": "1513932b-307e-44da-b897-fbf8513905f7",
   "metadata": {},
   "outputs": [],
   "source": []
  },
  {
   "cell_type": "code",
   "execution_count": null,
   "id": "7bd31ada-6c25-4271-b956-f57f73afdcd2",
   "metadata": {},
   "outputs": [],
   "source": []
  }
 ],
 "metadata": {
  "kernelspec": {
   "display_name": "Python 3 (ipykernel)",
   "language": "python",
   "name": "python3"
  },
  "language_info": {
   "codemirror_mode": {
    "name": "ipython",
    "version": 3
   },
   "file_extension": ".py",
   "mimetype": "text/x-python",
   "name": "python",
   "nbconvert_exporter": "python",
   "pygments_lexer": "ipython3",
   "version": "3.11.0"
  }
 },
 "nbformat": 4,
 "nbformat_minor": 5
}
